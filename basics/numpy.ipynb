{
 "cells": [
  {
   "cell_type": "markdown",
   "id": "stainless-maintenance",
   "metadata": {},
   "source": [
    "# Numpy\n",
    "\n",
    "An overview of the numpy API, with short explanations and examples."
   ]
  }
 ],
 "metadata": {
  "kernelspec": {
   "display_name": "Python 3",
   "language": "python",
   "name": "python3"
  },
  "language_info": {
   "codemirror_mode": {
    "name": "ipython",
    "version": 3
   },
   "file_extension": ".py",
   "mimetype": "text/x-python",
   "name": "python",
   "nbconvert_exporter": "python",
   "pygments_lexer": "ipython3",
   "version": "3.9.2"
  }
 },
 "nbformat": 4,
 "nbformat_minor": 5
}
