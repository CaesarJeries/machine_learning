{
 "cells": [
  {
   "cell_type": "markdown",
   "id": "5f5c7e51",
   "metadata": {},
   "source": [
    "# Pandas\n",
    "\n",
    "A guide on using the pandas API"
   ]
  },
  {
   "cell_type": "code",
   "execution_count": 1,
   "id": "b2b024d2",
   "metadata": {},
   "outputs": [],
   "source": [
    "# typical import statement\n",
    "import pandas as pd"
   ]
  },
  {
   "cell_type": "markdown",
   "id": "3242c0f3",
   "metadata": {},
   "source": [
    "## Reading Data\n",
    "\n",
    "[Input/Output API](https://pandas.pydata.org/pandas-docs/stable/reference/io.html#input-output)\n",
    "\n",
    "Data loading methods return a [DataFrame](https://pandas.pydata.org/pandas-docs/stable/reference/frame.html#dataframe)  \n",
    "There are a lot of supported formats: json, xml, html, etcetera. (refer to the API manual)"
   ]
  },
  {
   "cell_type": "code",
   "execution_count": 16,
   "id": "863a3c2f",
   "metadata": {},
   "outputs": [],
   "source": [
    "filename = './data_sample1.csv'\n",
    "dataframe = pd.read_csv(filename)"
   ]
  },
  {
   "cell_type": "markdown",
   "id": "ea7da490",
   "metadata": {},
   "source": [
    "## Getting to Know the Data\n",
    "\n",
    "These methods are generally used to review or analyze the data."
   ]
  },
  {
   "cell_type": "markdown",
   "id": "637b2562",
   "metadata": {},
   "source": [
    "### head\n",
    "\n",
    "By default, display the first 5 rows.  \n",
    "It accepts a single integer to change the number of displayed rows."
   ]
  },
  {
   "cell_type": "code",
   "execution_count": 14,
   "id": "62aae144",
   "metadata": {},
   "outputs": [
    {
     "data": {
      "text/html": [
       "<div>\n",
       "<style scoped>\n",
       "    .dataframe tbody tr th:only-of-type {\n",
       "        vertical-align: middle;\n",
       "    }\n",
       "\n",
       "    .dataframe tbody tr th {\n",
       "        vertical-align: top;\n",
       "    }\n",
       "\n",
       "    .dataframe thead th {\n",
       "        text-align: right;\n",
       "    }\n",
       "</style>\n",
       "<table border=\"1\" class=\"dataframe\">\n",
       "  <thead>\n",
       "    <tr style=\"text-align: right;\">\n",
       "      <th></th>\n",
       "      <th>Name</th>\n",
       "      <th>Age</th>\n",
       "      <th>Location</th>\n",
       "    </tr>\n",
       "  </thead>\n",
       "  <tbody>\n",
       "    <tr>\n",
       "      <th>0</th>\n",
       "      <td>Caesar</td>\n",
       "      <td>28</td>\n",
       "      <td>Israel</td>\n",
       "    </tr>\n",
       "    <tr>\n",
       "      <th>1</th>\n",
       "      <td>Mario</td>\n",
       "      <td>18</td>\n",
       "      <td>Canada</td>\n",
       "    </tr>\n",
       "    <tr>\n",
       "      <th>2</th>\n",
       "      <td>Pepe</td>\n",
       "      <td>42</td>\n",
       "      <td>Wonderland</td>\n",
       "    </tr>\n",
       "    <tr>\n",
       "      <th>3</th>\n",
       "      <td>Neo</td>\n",
       "      <td>30</td>\n",
       "      <td>The Matrix</td>\n",
       "    </tr>\n",
       "  </tbody>\n",
       "</table>\n",
       "</div>"
      ],
      "text/plain": [
       "     Name   Age     Location\n",
       "0  Caesar    28       Israel\n",
       "1   Mario    18       Canada\n",
       "2    Pepe    42   Wonderland\n",
       "3     Neo    30   The Matrix"
      ]
     },
     "execution_count": 14,
     "metadata": {},
     "output_type": "execute_result"
    }
   ],
   "source": [
    "dataframe.head()"
   ]
  },
  {
   "cell_type": "code",
   "execution_count": 5,
   "id": "2a94034f",
   "metadata": {
    "scrolled": true
   },
   "outputs": [
    {
     "data": {
      "text/html": [
       "<div>\n",
       "<style scoped>\n",
       "    .dataframe tbody tr th:only-of-type {\n",
       "        vertical-align: middle;\n",
       "    }\n",
       "\n",
       "    .dataframe tbody tr th {\n",
       "        vertical-align: top;\n",
       "    }\n",
       "\n",
       "    .dataframe thead th {\n",
       "        text-align: right;\n",
       "    }\n",
       "</style>\n",
       "<table border=\"1\" class=\"dataframe\">\n",
       "  <thead>\n",
       "    <tr style=\"text-align: right;\">\n",
       "      <th></th>\n",
       "      <th>Name</th>\n",
       "      <th>Age</th>\n",
       "      <th>Location</th>\n",
       "    </tr>\n",
       "  </thead>\n",
       "  <tbody>\n",
       "    <tr>\n",
       "      <th>0</th>\n",
       "      <td>Caesar</td>\n",
       "      <td>28</td>\n",
       "      <td>Israel</td>\n",
       "    </tr>\n",
       "    <tr>\n",
       "      <th>1</th>\n",
       "      <td>Mario</td>\n",
       "      <td>18</td>\n",
       "      <td>Canada</td>\n",
       "    </tr>\n",
       "  </tbody>\n",
       "</table>\n",
       "</div>"
      ],
      "text/plain": [
       "     Name   Age  Location\n",
       "0  Caesar    28    Israel\n",
       "1   Mario    18    Canada"
      ]
     },
     "execution_count": 5,
     "metadata": {},
     "output_type": "execute_result"
    }
   ],
   "source": [
    "dataframe.head(2)"
   ]
  },
  {
   "cell_type": "markdown",
   "id": "e6bf56ba",
   "metadata": {},
   "source": [
    "### describe\n",
    "\n",
    "Displays various statistics about the data: extremums, average, standard deviation, median or percentile values (25% / 50% / 75%).\n",
    "The median is the 50th percentile.  \n",
    "Count is the number of rows in the dataframe."
   ]
  },
  {
   "cell_type": "code",
   "execution_count": 6,
   "id": "5177d3fa",
   "metadata": {},
   "outputs": [
    {
     "data": {
      "text/html": [
       "<div>\n",
       "<style scoped>\n",
       "    .dataframe tbody tr th:only-of-type {\n",
       "        vertical-align: middle;\n",
       "    }\n",
       "\n",
       "    .dataframe tbody tr th {\n",
       "        vertical-align: top;\n",
       "    }\n",
       "\n",
       "    .dataframe thead th {\n",
       "        text-align: right;\n",
       "    }\n",
       "</style>\n",
       "<table border=\"1\" class=\"dataframe\">\n",
       "  <thead>\n",
       "    <tr style=\"text-align: right;\">\n",
       "      <th></th>\n",
       "      <th>Age</th>\n",
       "    </tr>\n",
       "  </thead>\n",
       "  <tbody>\n",
       "    <tr>\n",
       "      <th>count</th>\n",
       "      <td>4.000000</td>\n",
       "    </tr>\n",
       "    <tr>\n",
       "      <th>mean</th>\n",
       "      <td>29.500000</td>\n",
       "    </tr>\n",
       "    <tr>\n",
       "      <th>std</th>\n",
       "      <td>9.848858</td>\n",
       "    </tr>\n",
       "    <tr>\n",
       "      <th>min</th>\n",
       "      <td>18.000000</td>\n",
       "    </tr>\n",
       "    <tr>\n",
       "      <th>25%</th>\n",
       "      <td>25.500000</td>\n",
       "    </tr>\n",
       "    <tr>\n",
       "      <th>50%</th>\n",
       "      <td>29.000000</td>\n",
       "    </tr>\n",
       "    <tr>\n",
       "      <th>75%</th>\n",
       "      <td>33.000000</td>\n",
       "    </tr>\n",
       "    <tr>\n",
       "      <th>max</th>\n",
       "      <td>42.000000</td>\n",
       "    </tr>\n",
       "  </tbody>\n",
       "</table>\n",
       "</div>"
      ],
      "text/plain": [
       "             Age\n",
       "count   4.000000\n",
       "mean   29.500000\n",
       "std     9.848858\n",
       "min    18.000000\n",
       "25%    25.500000\n",
       "50%    29.000000\n",
       "75%    33.000000\n",
       "max    42.000000"
      ]
     },
     "execution_count": 6,
     "metadata": {},
     "output_type": "execute_result"
    }
   ],
   "source": [
    "dataframe.describe()"
   ]
  },
  {
   "cell_type": "markdown",
   "id": "6a31ce23",
   "metadata": {},
   "source": [
    "### List of Availablle Data\n",
    "\n",
    "To see which data is collected in the dataframe, use the columns **attribute** (not a method) to see the list of the column names."
   ]
  },
  {
   "cell_type": "code",
   "execution_count": 17,
   "id": "4ec96a21",
   "metadata": {},
   "outputs": [
    {
     "data": {
      "text/plain": [
       "Index(['Name', 'Age', 'Location'], dtype='object')"
      ]
     },
     "execution_count": 17,
     "metadata": {},
     "output_type": "execute_result"
    }
   ],
   "source": [
    "dataframe.columns"
   ]
  },
  {
   "cell_type": "code",
   "execution_count": 18,
   "id": "9c151430",
   "metadata": {},
   "outputs": [
    {
     "data": {
      "text/plain": [
       "['Name', 'Age', 'Location']"
      ]
     },
     "execution_count": 18,
     "metadata": {},
     "output_type": "execute_result"
    }
   ],
   "source": [
    "list(dataframe.columns) # for cleaner output"
   ]
  },
  {
   "cell_type": "markdown",
   "id": "36e9ada1",
   "metadata": {},
   "source": [
    "When working with dataframes, you'll need to select the **predicted** variable, and the **features**  \n",
    "\n",
    "Features are the columns that are used for predicting the variable's value."
   ]
  },
  {
   "cell_type": "markdown",
   "id": "73ae5f3b",
   "metadata": {},
   "source": [
    "### Data Series\n",
    "\n",
    "A DataSeries is like a DataFrame, except it contains a single column"
   ]
  },
  {
   "cell_type": "code",
   "execution_count": 20,
   "id": "6d5c3065",
   "metadata": {
    "scrolled": false
   },
   "outputs": [
    {
     "data": {
      "text/plain": [
       "0    28\n",
       "1    18\n",
       "2    42\n",
       "3    30\n",
       "Name: Age, dtype: int64"
      ]
     },
     "execution_count": 20,
     "metadata": {},
     "output_type": "execute_result"
    }
   ],
   "source": [
    "dataframe['Age']"
   ]
  },
  {
   "cell_type": "code",
   "execution_count": 23,
   "id": "69fdd776",
   "metadata": {},
   "outputs": [
    {
     "data": {
      "text/plain": [
       "pandas.core.series.Series"
      ]
     },
     "execution_count": 23,
     "metadata": {},
     "output_type": "execute_result"
    }
   ],
   "source": [
    "type(dataframe['Age'])"
   ]
  },
  {
   "cell_type": "markdown",
   "id": "b7218de4",
   "metadata": {},
   "source": [
    "### Dataframes with a Subset of Features"
   ]
  },
  {
   "cell_type": "code",
   "execution_count": 24,
   "id": "44fe9e8e",
   "metadata": {
    "scrolled": true
   },
   "outputs": [
    {
     "data": {
      "text/html": [
       "<div>\n",
       "<style scoped>\n",
       "    .dataframe tbody tr th:only-of-type {\n",
       "        vertical-align: middle;\n",
       "    }\n",
       "\n",
       "    .dataframe tbody tr th {\n",
       "        vertical-align: top;\n",
       "    }\n",
       "\n",
       "    .dataframe thead th {\n",
       "        text-align: right;\n",
       "    }\n",
       "</style>\n",
       "<table border=\"1\" class=\"dataframe\">\n",
       "  <thead>\n",
       "    <tr style=\"text-align: right;\">\n",
       "      <th></th>\n",
       "      <th>Name</th>\n",
       "      <th>Age</th>\n",
       "    </tr>\n",
       "  </thead>\n",
       "  <tbody>\n",
       "    <tr>\n",
       "      <th>0</th>\n",
       "      <td>Caesar</td>\n",
       "      <td>28</td>\n",
       "    </tr>\n",
       "    <tr>\n",
       "      <th>1</th>\n",
       "      <td>Mario</td>\n",
       "      <td>18</td>\n",
       "    </tr>\n",
       "    <tr>\n",
       "      <th>2</th>\n",
       "      <td>Pepe</td>\n",
       "      <td>42</td>\n",
       "    </tr>\n",
       "    <tr>\n",
       "      <th>3</th>\n",
       "      <td>Neo</td>\n",
       "      <td>30</td>\n",
       "    </tr>\n",
       "  </tbody>\n",
       "</table>\n",
       "</div>"
      ],
      "text/plain": [
       "     Name  Age\n",
       "0  Caesar   28\n",
       "1   Mario   18\n",
       "2    Pepe   42\n",
       "3     Neo   30"
      ]
     },
     "execution_count": 24,
     "metadata": {},
     "output_type": "execute_result"
    }
   ],
   "source": [
    "array_of_features = ['Name', 'Age']\n",
    "dataframe[array_of_features] # an array of labels can be passed"
   ]
  },
  {
   "cell_type": "code",
   "execution_count": 22,
   "id": "7c6abca9",
   "metadata": {},
   "outputs": [
    {
     "data": {
      "text/plain": [
       "pandas.core.frame.DataFrame"
      ]
     },
     "execution_count": 22,
     "metadata": {},
     "output_type": "execute_result"
    }
   ],
   "source": [
    "type(dataframe[array_of_features])"
   ]
  }
 ],
 "metadata": {
  "kernelspec": {
   "display_name": "Python 3",
   "language": "python",
   "name": "python3"
  },
  "language_info": {
   "codemirror_mode": {
    "name": "ipython",
    "version": 3
   },
   "file_extension": ".py",
   "mimetype": "text/x-python",
   "name": "python",
   "nbconvert_exporter": "python",
   "pygments_lexer": "ipython3",
   "version": "3.9.2"
  }
 },
 "nbformat": 4,
 "nbformat_minor": 5
}
