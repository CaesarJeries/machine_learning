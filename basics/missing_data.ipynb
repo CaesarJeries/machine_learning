{
 "cells": [
  {
   "cell_type": "markdown",
   "id": "a245fb01",
   "metadata": {},
   "source": [
    "# Missing Data\n",
    "\n",
    "Some datasets contains invalid/missing data.  \n",
    "For example, a dataframe can contain nan (not a number).\n",
    "\n",
    "The pandas library provides methods for data cleaning.\n",
    "\n",
    "\n",
    "**Note** To create  a custom csv file containing missing values, write two consecutive commas in the csv file (without **any** character between them).  \n",
    "\n",
    "Example:  \n",
    "Cat1, Cat2, Cat3  \n",
    "Val1, Val2, Val3  \n",
    "Val4,, Val5\n",
    "\n",
    "This will yield a dataframe (when loaded using pandas.read_csv) with two rows, whereas the second row is missing the value for category 2.\n",
    "\n",
    "**Note** White spaces are important in csv files.  \n",
    "Example:  \n",
    "cat1, cat2 => two categories: 'cat1' and ' cat2' (note the preceeding space)\n",
    "\n",
    "cat1,cat2 => 'cat1' and 'cat2' (the correct way)"
   ]
  },
  {
   "cell_type": "code",
   "execution_count": 1,
   "id": "38ee5e6d",
   "metadata": {},
   "outputs": [],
   "source": [
    "import pandas as pd"
   ]
  },
  {
   "cell_type": "markdown",
   "id": "01fa7472",
   "metadata": {},
   "source": [
    "## dropna\n",
    "\n",
    "[Docs](https://pandas.pydata.org/pandas-docs/stable/reference/api/pandas.DataFrame.dropna.html#pandas-dataframe-dropna)"
   ]
  },
  {
   "cell_type": "code",
   "execution_count": 8,
   "id": "6da6e000",
   "metadata": {},
   "outputs": [],
   "source": [
    "dataframe = pd.read_csv('./data_sample2.csv')"
   ]
  },
  {
   "cell_type": "code",
   "execution_count": 9,
   "id": "6b50ccb3",
   "metadata": {},
   "outputs": [
    {
     "data": {
      "text/html": [
       "<div>\n",
       "<style scoped>\n",
       "    .dataframe tbody tr th:only-of-type {\n",
       "        vertical-align: middle;\n",
       "    }\n",
       "\n",
       "    .dataframe tbody tr th {\n",
       "        vertical-align: top;\n",
       "    }\n",
       "\n",
       "    .dataframe thead th {\n",
       "        text-align: right;\n",
       "    }\n",
       "</style>\n",
       "<table border=\"1\" class=\"dataframe\">\n",
       "  <thead>\n",
       "    <tr style=\"text-align: right;\">\n",
       "      <th></th>\n",
       "      <th>Name</th>\n",
       "      <th>Age</th>\n",
       "      <th>Location</th>\n",
       "    </tr>\n",
       "  </thead>\n",
       "  <tbody>\n",
       "    <tr>\n",
       "      <th>0</th>\n",
       "      <td>Caesar</td>\n",
       "      <td>28.0</td>\n",
       "      <td>Israel</td>\n",
       "    </tr>\n",
       "    <tr>\n",
       "      <th>1</th>\n",
       "      <td>Mario</td>\n",
       "      <td>18.0</td>\n",
       "      <td>Canada</td>\n",
       "    </tr>\n",
       "    <tr>\n",
       "      <th>2</th>\n",
       "      <td>Pepe</td>\n",
       "      <td>42.0</td>\n",
       "      <td>Wonderland</td>\n",
       "    </tr>\n",
       "    <tr>\n",
       "      <th>3</th>\n",
       "      <td>Neo</td>\n",
       "      <td>30.0</td>\n",
       "      <td>The Matrix</td>\n",
       "    </tr>\n",
       "    <tr>\n",
       "      <th>4</th>\n",
       "      <td>Trinity</td>\n",
       "      <td>NaN</td>\n",
       "      <td>The Matrix</td>\n",
       "    </tr>\n",
       "  </tbody>\n",
       "</table>\n",
       "</div>"
      ],
      "text/plain": [
       "      Name   Age     Location\n",
       "0   Caesar  28.0       Israel\n",
       "1    Mario  18.0       Canada\n",
       "2     Pepe  42.0   Wonderland\n",
       "3      Neo  30.0   The Matrix\n",
       "4  Trinity   NaN   The Matrix"
      ]
     },
     "execution_count": 9,
     "metadata": {},
     "output_type": "execute_result"
    }
   ],
   "source": [
    "dataframe.head()"
   ]
  },
  {
   "cell_type": "code",
   "execution_count": 10,
   "id": "4e830bb4",
   "metadata": {
    "scrolled": true
   },
   "outputs": [
    {
     "data": {
      "text/html": [
       "<div>\n",
       "<style scoped>\n",
       "    .dataframe tbody tr th:only-of-type {\n",
       "        vertical-align: middle;\n",
       "    }\n",
       "\n",
       "    .dataframe tbody tr th {\n",
       "        vertical-align: top;\n",
       "    }\n",
       "\n",
       "    .dataframe thead th {\n",
       "        text-align: right;\n",
       "    }\n",
       "</style>\n",
       "<table border=\"1\" class=\"dataframe\">\n",
       "  <thead>\n",
       "    <tr style=\"text-align: right;\">\n",
       "      <th></th>\n",
       "      <th>Name</th>\n",
       "      <th>Age</th>\n",
       "      <th>Location</th>\n",
       "    </tr>\n",
       "  </thead>\n",
       "  <tbody>\n",
       "    <tr>\n",
       "      <th>0</th>\n",
       "      <td>Caesar</td>\n",
       "      <td>28.0</td>\n",
       "      <td>Israel</td>\n",
       "    </tr>\n",
       "    <tr>\n",
       "      <th>1</th>\n",
       "      <td>Mario</td>\n",
       "      <td>18.0</td>\n",
       "      <td>Canada</td>\n",
       "    </tr>\n",
       "    <tr>\n",
       "      <th>2</th>\n",
       "      <td>Pepe</td>\n",
       "      <td>42.0</td>\n",
       "      <td>Wonderland</td>\n",
       "    </tr>\n",
       "    <tr>\n",
       "      <th>3</th>\n",
       "      <td>Neo</td>\n",
       "      <td>30.0</td>\n",
       "      <td>The Matrix</td>\n",
       "    </tr>\n",
       "  </tbody>\n",
       "</table>\n",
       "</div>"
      ],
      "text/plain": [
       "     Name   Age     Location\n",
       "0  Caesar  28.0       Israel\n",
       "1   Mario  18.0       Canada\n",
       "2    Pepe  42.0   Wonderland\n",
       "3     Neo  30.0   The Matrix"
      ]
     },
     "execution_count": 10,
     "metadata": {},
     "output_type": "execute_result"
    }
   ],
   "source": [
    "clean_dataframe = dataframe.dropna(axis=0)\n",
    "clean_dataframe.head()"
   ]
  },
  {
   "cell_type": "markdown",
   "id": "7aa3bfd4",
   "metadata": {},
   "source": [
    "This operation can be done in-place, i.e, without using extra space.  \n",
    "Particularly useful when handling large dataframes.  "
   ]
  },
  {
   "cell_type": "code",
   "execution_count": 11,
   "id": "54691af0",
   "metadata": {},
   "outputs": [
    {
     "data": {
      "text/html": [
       "<div>\n",
       "<style scoped>\n",
       "    .dataframe tbody tr th:only-of-type {\n",
       "        vertical-align: middle;\n",
       "    }\n",
       "\n",
       "    .dataframe tbody tr th {\n",
       "        vertical-align: top;\n",
       "    }\n",
       "\n",
       "    .dataframe thead th {\n",
       "        text-align: right;\n",
       "    }\n",
       "</style>\n",
       "<table border=\"1\" class=\"dataframe\">\n",
       "  <thead>\n",
       "    <tr style=\"text-align: right;\">\n",
       "      <th></th>\n",
       "      <th>Name</th>\n",
       "      <th>Age</th>\n",
       "      <th>Location</th>\n",
       "    </tr>\n",
       "  </thead>\n",
       "  <tbody>\n",
       "    <tr>\n",
       "      <th>0</th>\n",
       "      <td>Caesar</td>\n",
       "      <td>28.0</td>\n",
       "      <td>Israel</td>\n",
       "    </tr>\n",
       "    <tr>\n",
       "      <th>1</th>\n",
       "      <td>Mario</td>\n",
       "      <td>18.0</td>\n",
       "      <td>Canada</td>\n",
       "    </tr>\n",
       "    <tr>\n",
       "      <th>2</th>\n",
       "      <td>Pepe</td>\n",
       "      <td>42.0</td>\n",
       "      <td>Wonderland</td>\n",
       "    </tr>\n",
       "    <tr>\n",
       "      <th>3</th>\n",
       "      <td>Neo</td>\n",
       "      <td>30.0</td>\n",
       "      <td>The Matrix</td>\n",
       "    </tr>\n",
       "  </tbody>\n",
       "</table>\n",
       "</div>"
      ],
      "text/plain": [
       "     Name   Age     Location\n",
       "0  Caesar  28.0       Israel\n",
       "1   Mario  18.0       Canada\n",
       "2    Pepe  42.0   Wonderland\n",
       "3     Neo  30.0   The Matrix"
      ]
     },
     "execution_count": 11,
     "metadata": {},
     "output_type": "execute_result"
    }
   ],
   "source": [
    "dataframe.dropna(inplace=True, axis=0)\n",
    "dataframe.head()"
   ]
  }
 ],
 "metadata": {
  "kernelspec": {
   "display_name": "Python 3",
   "language": "python",
   "name": "python3"
  },
  "language_info": {
   "codemirror_mode": {
    "name": "ipython",
    "version": 3
   },
   "file_extension": ".py",
   "mimetype": "text/x-python",
   "name": "python",
   "nbconvert_exporter": "python",
   "pygments_lexer": "ipython3",
   "version": "3.9.2"
  }
 },
 "nbformat": 4,
 "nbformat_minor": 5
}
